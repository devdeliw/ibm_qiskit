{
 "cells": [
  {
   "cell_type": "markdown",
   "id": "19b9b874-0b8d-46c1-905a-d48fe9a1aaa6",
   "metadata": {},
   "source": [
    "## Problem 1\n",
    "---"
   ]
  },
  {
   "cell_type": "code",
   "execution_count": 8,
   "id": "ab12dd56-8d9f-4036-93f0-be893995c48b",
   "metadata": {},
   "outputs": [
    {
     "data": {
      "text/html": [
       "<pre style=\"word-wrap: normal;white-space: pre;background: #fff0;line-height: 1.1;font-family: &quot;Courier New&quot;,Courier,monospace\">   ┌───┐\n",
       "q: ┤ H ├\n",
       "   └───┘</pre>"
      ],
      "text/plain": [
       "   ┌───┐\n",
       "q: ┤ H ├\n",
       "   └───┘"
      ]
     },
     "execution_count": 8,
     "metadata": {},
     "output_type": "execute_result"
    }
   ],
   "source": [
    "from qiskit.quantum_info import Statevector\n",
    "from qiskit import QuantumCircuit\n",
    "\n",
    "# We can generate the plus and minus vectors via two different ways. \n",
    "# 1. Implementing an H gate on the |0> and |1> vectors, respectively\n",
    "# 2. Calling directly from Statevector.from_label(\"+\") and .from_label(\"-\") \n",
    "\n",
    "# Method 1 ---------------\n",
    "ket0 = Statevector([1, 0]) # We could also say ket0 = Statevector.from_label(\"0\")\n",
    "ket1 = Statevector([0, 1]) \n",
    "\n",
    "circuit_with_a_hadamard_gate = QuantumCircuit(1)\n",
    "circuit_with_a_hadamard_gate.h(0)\n",
    "circuit_with_a_hadamard_gate.draw()"
   ]
  },
  {
   "cell_type": "code",
   "execution_count": 10,
   "id": "ee317953-f160-4288-ab3f-bbdd1737436e",
   "metadata": {},
   "outputs": [
    {
     "data": {
      "text/latex": [
       "$$\\frac{\\sqrt{2}}{2} |0\\rangle+\\frac{\\sqrt{2}}{2} |1\\rangle$$"
      ],
      "text/plain": [
       "<IPython.core.display.Latex object>"
      ]
     },
     "metadata": {},
     "output_type": "display_data"
    },
    {
     "data": {
      "text/latex": [
       "$$\\frac{\\sqrt{2}}{2} |0\\rangle- \\frac{\\sqrt{2}}{2} |1\\rangle$$"
      ],
      "text/plain": [
       "<IPython.core.display.Latex object>"
      ]
     },
     "metadata": {},
     "output_type": "display_data"
    }
   ],
   "source": [
    "plus = ket0.evolve(circuit_with_a_hadamard_gate)\n",
    "minus = ket1.evolve(circuit_with_a_hadamard_gate)\n",
    "\n",
    "display(plus.draw(\"latex\"))\n",
    "display(minus.draw(\"latex\"))"
   ]
  },
  {
   "cell_type": "code",
   "execution_count": 12,
   "id": "f937649b-028b-4b87-bbdd-a15f58a67ffe",
   "metadata": {},
   "outputs": [
    {
     "data": {
      "text/latex": [
       "$$\\frac{\\sqrt{2}}{2} |0\\rangle+\\frac{\\sqrt{2}}{2} |1\\rangle$$"
      ],
      "text/plain": [
       "<IPython.core.display.Latex object>"
      ]
     },
     "metadata": {},
     "output_type": "display_data"
    },
    {
     "data": {
      "text/latex": [
       "$$\\frac{\\sqrt{2}}{2} |0\\rangle- \\frac{\\sqrt{2}}{2} |1\\rangle$$"
      ],
      "text/plain": [
       "<IPython.core.display.Latex object>"
      ]
     },
     "metadata": {},
     "output_type": "display_data"
    }
   ],
   "source": [
    "# Method 2 -----------------------\n",
    "plus = Statevector.from_label(\"+\")\n",
    "minus = Statevector.from_label(\"-\")\n",
    "\n",
    "display(plus.draw(\"latex\"))\n",
    "display(minus.draw(\"latex\"))"
   ]
  },
  {
   "cell_type": "code",
   "execution_count": 16,
   "id": "7a824378-de82-4c46-841c-c355747a2c7e",
   "metadata": {},
   "outputs": [
    {
     "name": "stdout",
     "output_type": "stream",
     "text": [
      "|+>\n"
     ]
    },
    {
     "data": {
      "image/png": "[encoded data removed]",
      "text/plain": [
       "<Figure size 700x500 with 1 Axes>"
      ]
     },
     "metadata": {},
     "output_type": "display_data"
    },
    {
     "name": "stdout",
     "output_type": "stream",
     "text": [
      "|->\n"
     ]
    },
    {
     "data": {
      "image/png": "[encoded data removed]",
      "text/plain": [
       "<Figure size 700x500 with 1 Axes>"
      ]
     },
     "metadata": {},
     "output_type": "display_data"
    }
   ],
   "source": [
    "from qiskit.visualization import plot_histogram\n",
    "\n",
    "plus_stats = plus.sample_counts(1000)\n",
    "minus_stats = minus.sample_counts(1000)\n",
    "\n",
    "print(\"|+>\")\n",
    "display(plot_histogram(plus_stats))\n",
    "\n",
    "print(\"|->\")\n",
    "display(plot_histogram(minus_stats))"
   ]
  },
  {
   "cell_type": "markdown",
   "id": "86589783-ed27-4c36-bfcc-8fe81ce32dab",
   "metadata": {},
   "source": [
    "## Problem 2\n",
    "---"
   ]
  },
  {
   "cell_type": "markdown",
   "id": "4db33dc0-b5ae-48bf-9584-b28f37797477",
   "metadata": {},
   "source": [
    "Let's define a `QuantumCircuit` with one Hadamard Gate. "
   ]
  },
  {
   "cell_type": "code",
   "execution_count": 17,
   "id": "cb34df95-f413-4003-aff3-ba05e4823f82",
   "metadata": {},
   "outputs": [
    {
     "data": {
      "text/html": [
       "<pre style=\"word-wrap: normal;white-space: pre;background: #fff0;line-height: 1.1;font-family: &quot;Courier New&quot;,Courier,monospace\">   ┌───┐\n",
       "q: ┤ H ├\n",
       "   └───┘</pre>"
      ],
      "text/plain": [
       "   ┌───┐\n",
       "q: ┤ H ├\n",
       "   └───┘"
      ]
     },
     "execution_count": 17,
     "metadata": {},
     "output_type": "execute_result"
    }
   ],
   "source": [
    "from qiskit.quantum_info import Statevector\n",
    "from qiskit import QuantumCircuit\n",
    "\n",
    "circuit = QuantumCircuit(1)\n",
    "\n",
    "circuit.h(0)\n",
    "\n",
    "circuit.draw()"
   ]
  },
  {
   "cell_type": "code",
   "execution_count": 20,
   "id": "984a7de5-6cb6-44e8-8531-d7553214824f",
   "metadata": {},
   "outputs": [
    {
     "data": {
      "text/latex": [
       "$$ |0\\rangle$$"
      ],
      "text/plain": [
       "<IPython.core.display.Latex object>"
      ]
     },
     "execution_count": 20,
     "metadata": {},
     "output_type": "execute_result"
    }
   ],
   "source": [
    "ket0 = Statevector([1, 0]) # or you could call ket0 = Statevector.from_label(\"0\")\n",
    "ket0.draw('latex')"
   ]
  },
  {
   "cell_type": "markdown",
   "id": "4409153a-295b-4aaa-8e69-1b2d118e4f12",
   "metadata": {},
   "source": [
    "Let's implement the circuit *once* (one Hadamard gate) on $|0\\rangle$ and see the result. "
   ]
  },
  {
   "cell_type": "code",
   "execution_count": 21,
   "id": "17d44322-ed3f-4d7d-9727-a4f7fc22e742",
   "metadata": {},
   "outputs": [
    {
     "data": {
      "text/latex": [
       "$$\\frac{\\sqrt{2}}{2} |0\\rangle+\\frac{\\sqrt{2}}{2} |1\\rangle$$"
      ],
      "text/plain": [
       "<IPython.core.display.Latex object>"
      ]
     },
     "metadata": {},
     "output_type": "display_data"
    }
   ],
   "source": [
    "display(ket0.evolve(circuit).draw(\"latex\"))"
   ]
  },
  {
   "cell_type": "markdown",
   "id": "915b9cb4-ed49-4b9e-ad6e-33f1dd40b83a",
   "metadata": {},
   "source": [
    "We get the $|+\\rangle$ as expected. Now let's run this new statevector back through the circuit. (This is the same as applying a Hadamard gate twice on $|0\\rangle$)."
   ]
  },
  {
   "cell_type": "code",
   "execution_count": 23,
   "id": "21a286a1-edf4-48cc-900e-a7d096d960b1",
   "metadata": {},
   "outputs": [
    {
     "data": {
      "text/latex": [
       "$$ |0\\rangle$$"
      ],
      "text/plain": [
       "<IPython.core.display.Latex object>"
      ]
     },
     "metadata": {},
     "output_type": "display_data"
    }
   ],
   "source": [
    "plus = ket0.evolve(circuit)\n",
    "\n",
    "display(plus.evolve(circuit).draw(\"latex\"))"
   ]
  },
  {
   "cell_type": "markdown",
   "id": "ad29e705-89c2-49c2-9a61-ddf697fa713f",
   "metadata": {},
   "source": [
    "We see that applying two Hadamard gates to the $|0\\rangle$ statevector re-yields $|0\\rangle$."
   ]
  },
  {
   "cell_type": "markdown",
   "id": "6d2e2e5e-4d41-48e7-a26a-0fb0805e40c6",
   "metadata": {},
   "source": [
    "## Problem 3\n",
    "---"
   ]
  },
  {
   "cell_type": "markdown",
   "id": "8bc67b6d-71fa-4798-8234-09e6de7e2174",
   "metadata": {},
   "source": [
    "Recall that a Phase operation is given by \n",
    "\n",
    "$$ P_\\theta \\equiv \\begin{pmatrix} 1 & 0 \\\\ 0 & e^{i\\theta} \\end{pmatrix} $$\n",
    "\n",
    "Therefore, $P_{\\pi/3}$\n",
    "\n",
    "\n",
    "$$ P_{\\pi/3} \\equiv \\begin{pmatrix} 1 & 0 \\\\ 0 & e^{i \\pi/3} \\end{pmatrix} $$\n",
    "\n",
    "Let's define this operator in Qiskit. "
   ]
  },
  {
   "cell_type": "code",
   "execution_count": 33,
   "id": "1e497b1d-1353-4ad4-8f32-69eef4a22338",
   "metadata": {},
   "outputs": [
    {
     "data": {
      "text/latex": [
       "$$(\\frac{1}{2} + \\frac{\\sqrt{3} i}{2}) |1\\rangle$$"
      ],
      "text/plain": [
       "<IPython.core.display.Latex object>"
      ]
     },
     "metadata": {},
     "output_type": "display_data"
    }
   ],
   "source": [
    "from qiskit.quantum_info import Operator\n",
    "import math\n",
    "\n",
    "ket1 = Statevector([0, 1]) # or you could call Statevector.from_label(\"1\")\n",
    "PhasePi3 = Operator([[1, 0], [0, math.cos(math.pi / 3) + 1j * math.sin(math.pi / 3)]]) # using Euler's formula\n",
    "\n",
    "display(ket1.evolve(PhasePi3).draw(\"latex\"))"
   ]
  }
 ],
 "metadata": {
  "kernelspec": {
   "display_name": "Python 3 (ipykernel)",
   "language": "python",
   "name": "python3"
  },
  "language_info": {
   "codemirror_mode": {
    "name": "ipython",
    "version": 3
   },
   "file_extension": ".py",
   "mimetype": "text/x-python",
   "name": "python",
   "nbconvert_exporter": "python",
   "pygments_lexer": "ipython3",
   "version": "3.11.6"
  }
 },
 "nbformat": 4,
 "nbformat_minor": 5
}
